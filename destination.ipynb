{
 "cells": [
  {
   "cell_type": "code",
   "execution_count": 2,
   "id": "e92437ea",
   "metadata": {},
   "outputs": [],
   "source": [
    "class Solution:\n",
    "    # Destination City\n",
    "    def dest_city(self, paths: list[list[str]]) -> str:\n",
    "        for i in range(len(paths)-1):\n",
    "            last_current_city = paths[i][-1]\n",
    "            first_next_city = paths[i+1][0]\n",
    "\n",
    "            if last_current_city != first_next_city:\n",
    "                print(\"The destination city is: {last_current_city}\")\n",
    "                return last_current_city\n",
    "        return paths[-1][1]\n"
   ]
  },
  {
   "cell_type": "code",
   "execution_count": 3,
   "id": "45690c83",
   "metadata": {},
   "outputs": [
    {
     "data": {
      "text/plain": [
       "'Sao Paulo'"
      ]
     },
     "execution_count": 3,
     "metadata": {},
     "output_type": "execute_result"
    }
   ],
   "source": [
    "paths = [['London', 'New York'], ['New York', 'Lima'], ['Lima', 'Sao Paulo']]\n",
    "solution = Solution()\n",
    "solution.dest_city(paths)"
   ]
  },
  {
   "cell_type": "markdown",
   "id": "e642b71f",
   "metadata": {},
   "source": [
    "### Smaller numbers\n",
    "* Given a list, for a number[i], find how many numbers that are smaller than itself"
   ]
  },
  {
   "cell_type": "code",
   "execution_count": 4,
   "id": "a7c12ea5",
   "metadata": {},
   "outputs": [],
   "source": [
    "def greater_num(num: list[int]) -> list[int]:\n",
    "    result = []\n",
    "    for i in range(len(num)):\n",
    "        current_number = num[i]\n",
    "        others = num[:i] + num[i+1:]\n",
    "        count = sum(1 for x in others if x < current_number)\n",
    "        result.append(count)\n",
    "    return result"
   ]
  },
  {
   "cell_type": "code",
   "execution_count": 5,
   "id": "0a6120df",
   "metadata": {},
   "outputs": [
    {
     "data": {
      "text/plain": [
       "[0, 2, 4, 1, 3]"
      ]
     },
     "execution_count": 5,
     "metadata": {},
     "output_type": "execute_result"
    }
   ],
   "source": [
    "test = [11, 21, 45, 13, 25]\n",
    " \n",
    "greater_num(test)"
   ]
  },
  {
   "cell_type": "markdown",
   "id": "97b104ce",
   "metadata": {},
   "source": [
    "### Binary Search"
   ]
  },
  {
   "cell_type": "code",
   "execution_count": 12,
   "id": "5e7972f5",
   "metadata": {},
   "outputs": [
    {
     "name": "stdout",
     "output_type": "stream",
     "text": [
      "4\n"
     ]
    }
   ],
   "source": [
    "target = int(input())\n",
    "\n",
    "l1 = [-1,0,2,3,5]\n",
    "found = False\n",
    "for num in range(len(l1)):\n",
    "    if l1[num] == target:\n",
    "        print(num)\n",
    "        found = True\n",
    "        break\n",
    "if not found:\n",
    "    print(-1)\n"
   ]
  },
  {
   "cell_type": "code",
   "execution_count": null,
   "id": "cdae398e",
   "metadata": {},
   "outputs": [],
   "source": [
    "def get_index(num: list[int], target:int) -> int:\n",
    "    \n"
   ]
  },
  {
   "cell_type": "code",
   "execution_count": null,
   "id": "dac55215",
   "metadata": {},
   "outputs": [],
   "source": []
  },
  {
   "cell_type": "code",
   "execution_count": null,
   "id": "6a03a07e",
   "metadata": {},
   "outputs": [],
   "source": []
  }
 ],
 "metadata": {
  "kernelspec": {
   "display_name": "base",
   "language": "python",
   "name": "python3"
  },
  "language_info": {
   "codemirror_mode": {
    "name": "ipython",
    "version": 3
   },
   "file_extension": ".py",
   "mimetype": "text/x-python",
   "name": "python",
   "nbconvert_exporter": "python",
   "pygments_lexer": "ipython3",
   "version": "3.12.7"
  }
 },
 "nbformat": 4,
 "nbformat_minor": 5
}
