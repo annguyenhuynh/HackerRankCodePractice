{
 "cells": [
  {
   "cell_type": "code",
   "execution_count": 1,
   "metadata": {},
   "outputs": [
    {
     "name": "stdout",
     "output_type": "stream",
     "text": [
      "mY NAME IS aN\n"
     ]
    }
   ],
   "source": [
    "def swap_case(s):\n",
    "    swaped_s = s.swapcase() \n",
    "    return swaped_s\n",
    "\n",
    "if __name__ == '__main__':\n",
    "    s = input()\n",
    "    result = swap_case(s)\n",
    "    print(result)"
   ]
  },
  {
   "cell_type": "code",
   "execution_count": 6,
   "metadata": {},
   "outputs": [
    {
     "name": "stdout",
     "output_type": "stream",
     "text": [
      "HackerRank----------\n"
     ]
    }
   ],
   "source": [
    "width = 20 \n",
    "print('HackerRank'.ljust(width,'-'))"
   ]
  },
  {
   "cell_type": "code",
   "execution_count": 7,
   "metadata": {},
   "outputs": [
    {
     "name": "stdout",
     "output_type": "stream",
     "text": [
      "*****HackerRank*****\n"
     ]
    }
   ],
   "source": [
    "print('HackerRank'.center(width, '*'))"
   ]
  },
  {
   "cell_type": "code",
   "execution_count": 9,
   "metadata": {},
   "outputs": [
    {
     "name": "stdout",
     "output_type": "stream",
     "text": [
      "    H    \n",
      "   HHH   \n",
      "  HHHHH  \n",
      " HHHHHHH \n",
      "HHHHHHHHH\n",
      "  HHHHH               HHHHH             \n",
      "  HHHHH               HHHHH             \n",
      "  HHHHH               HHHHH             \n",
      "  HHHHH               HHHHH             \n",
      "  HHHHH               HHHHH             \n",
      "  HHHHH               HHHHH             \n",
      "  HHHHHHHHHHHHHHHHHHHHHHHHH   \n",
      "  HHHHHHHHHHHHHHHHHHHHHHHHH   \n",
      "  HHHHHHHHHHHHHHHHHHHHHHHHH   \n",
      "  HHHHH               HHHHH             \n",
      "  HHHHH               HHHHH             \n",
      "  HHHHH               HHHHH             \n",
      "  HHHHH               HHHHH             \n",
      "  HHHHH               HHHHH             \n",
      "  HHHHH               HHHHH             \n",
      "                    HHHHHHHHH \n",
      "                     HHHHHHH  \n",
      "                      HHHHH   \n",
      "                       HHH    \n",
      "                        H     \n"
     ]
    }
   ],
   "source": [
    "#Replace all ______ with rjust, ljust or center. \n",
    "\n",
    "thickness = int(input()) #This must be an odd number\n",
    "c = 'H'\n",
    "\n",
    "#Top Cone\n",
    "for i in range(thickness):\n",
    "    print((c*i).rjust(thickness-1)+c+(c*i).ljust(thickness-1))\n",
    "\n",
    "#Top Pillars\n",
    "for i in range(thickness+1):\n",
    "    print((c*thickness).center(thickness*2)+(c*thickness).center(thickness*6))\n",
    "\n",
    "#Middle Belt\n",
    "for i in range((thickness+1)//2):\n",
    "    print((c*thickness*5).center(thickness*6))    \n",
    "\n",
    "#Bottom Pillars\n",
    "for i in range(thickness+1):\n",
    "    print((c*thickness).center(thickness*2)+(c*thickness).center(thickness*6))    \n",
    "\n",
    "#Bottom Cone\n",
    "for i in range(thickness):\n",
    "    print(((c*(thickness-i-1)).rjust(thickness)+c+(c*(thickness-i-1)).ljust(thickness)).rjust(thickness*6))\n"
   ]
  },
  {
   "cell_type": "code",
   "execution_count": 1,
   "metadata": {},
   "outputs": [
    {
     "name": "stdout",
     "output_type": "stream",
     "text": [
      "---------.|.---------\n",
      "------.|..|..|.------\n",
      "---.|..|..|..|..|.---\n",
      "-------WELCOME-------\n",
      "---.|..|..|..|..|.---\n",
      "------.|..|..|.------\n",
      "---------.|.---------\n"
     ]
    }
   ],
   "source": [
    "N,M = map(int, input().split())\n",
    "\n",
    "for i in range (1,N,2):\n",
    "    print((i*'.|.').center(M, '-'))\n",
    "\n",
    "print('WELCOME'.center(M,'-'))\n",
    "\n",
    "for i in range (N-2, -1, -2):\n",
    "    print((i*'.|.').center(M, '-'))"
   ]
  },
  {
   "cell_type": "markdown",
   "metadata": {},
   "source": [
    "* Decimal: The default base (base-10), which is simply the integer itself.\n",
    "* Octal: Base-8 representation.\n",
    "* Hexadecimal: Base-16 representation, often capitalized.\n",
    "* Binary: Base-2 representation."
   ]
  },
  {
   "cell_type": "code",
   "execution_count": 1,
   "metadata": {},
   "outputs": [
    {
     "name": "stdout",
     "output_type": "stream",
     "text": [
      "  1   1   1   1\n",
      "  2   2   2  10\n",
      "  3   3   3  11\n",
      "  4   4   4 100\n",
      "  5   5   5 101\n"
     ]
    }
   ],
   "source": [
    "def print_number_representations(n):\n",
    "    # Determine the width for alignment based on the binary length of n\n",
    "    width = len(bin(n)[2:])\n",
    "\n",
    "    # Loop from 1 to n inclusive\n",
    "    for i in range(1, n + 1):\n",
    "        # Print each representation, aligned to the width\n",
    "        print(str(i).rjust(width),       # Decimal\n",
    "              oct(i)[2:].rjust(width),   # Octal\n",
    "              hex(i)[2:].upper().rjust(width),  # Hexadecimal\n",
    "              bin(i)[2:].rjust(width))   # Binary\n",
    "\n",
    "# Example usage\n",
    "n = int(input(\"Enter an integer: \"))\n",
    "print_number_representations(n)\n"
   ]
  },
  {
   "cell_type": "markdown",
   "metadata": {},
   "source": [
    "### Code explain\n",
    "\n",
    "* Alignment: **width = len(bin(n)[2:])** calculates the width needed for alignment based on the binary length of the largest number (n). This makes each column line up neatly.\n",
    "\n",
    "* Loop: For each integer i from 1 to n:\n",
    "    - str(i).rjust(width): Right-aligns the decimal number.\n",
    "    - oct(i)[2:].rjust(width): Converts to octal and aligns by removing the \"0o\" prefix.\n",
    "    - hex(i)[2:].upper().rjust(width): Converts to uppercase hexadecimal, aligns by removing the \"0x\" prefix.\n",
    "    - bin(i)[2:].rjust(width): Converts to binary and aligns by removing the \"0b\" prefix. "
   ]
  },
  {
   "cell_type": "markdown",
   "metadata": {},
   "source": [
    "### Longest substring without repeating characters"
   ]
  },
  {
   "cell_type": "code",
   "execution_count": 9,
   "metadata": {},
   "outputs": [],
   "source": [
    "class Solution:\n",
    "    def longestSubstring(self, s: str) -> int:\n",
    "        sub = {}\n",
    "        cur_sub_start = 0 #index\n",
    "        curr_len = 0\n",
    "        longest = 0\n",
    "\n",
    "        for i, letter in enumerate(s):\n",
    "            if letter in sub and sub[letter] >= cur_sub_start:\n",
    "                cur_sub_start = sub[letter] + 1\n",
    "                curr_len = i - sub[letter]\n",
    "                sub[letter] = i \n",
    "            else:\n",
    "                sub[letter] = i\n",
    "                curr_len +=1\n",
    "                if curr_len > longest:\n",
    "                    longest = curr_len \n",
    "        return longest\n",
    "sol = Solution()    "
   ]
  },
  {
   "cell_type": "code",
   "execution_count": 11,
   "metadata": {},
   "outputs": [
    {
     "name": "stdout",
     "output_type": "stream",
     "text": [
      "6\n"
     ]
    }
   ],
   "source": [
    "print(sol.longestSubstring(\"abcdecfab\"))"
   ]
  },
  {
   "cell_type": "markdown",
   "metadata": {},
   "source": [
    "### Longest Palindromic Substring\n",
    "\n",
    "* Palindrom: a word, phrase, or sequence that reads the same backwards"
   ]
  },
  {
   "cell_type": "code",
   "execution_count": 12,
   "metadata": {},
   "outputs": [],
   "source": [
    "def longestPalindrome(self, s: str) -> int:\n",
    "    #Helper func to check reversed order\n",
    "    def check_reverse(s):\n",
    "        return (s==s[::-1])\n",
    "    \n",
    "    # Check from center\n",
    "    biggest = s[0]\n",
    "    step = len(biggest)//2\n",
    "\n",
    "    # Single letter center (odd series of number)\n",
    "    for center in range(1, len(s)-1):\n",
    "        bounds = [(center-(1+step)), (center+(1+step))]\n",
    "        while(bounds[0] > -1 and bounds[1]<len(s)):\n",
    "            if check_reverse(s[bounds[0]:bounds[1]+1]):\n",
    "                biggest = s[bounds[0]:bounds[1]+1]\n",
    "                step = len(biggest)//2\n",
    "                bounds[0] -= 1 \n",
    "                bounds[1] += 1\n",
    "            else:\n",
    "                break \n",
    "\n",
    "    # Double letters center\n",
    "\n",
    "    for center in range(step,len(s)-1-step):\n",
    "       bounds = [(center-(step)), (center+(step))] \n",
    "       while(bounds[0] > -1 and bounds[1]<len(s)):\n",
    "            if check_reverse(s[bounds[0]:bounds[1]+1]):\n",
    "                biggest = s[bounds[0]:bounds[1]+1]\n",
    "                step = len(biggest)//2\n",
    "                bounds[0] -= 1 \n",
    "                bounds[1] += 1\n",
    "            else:\n",
    "                break \n",
    "    return biggest\n",
    "            \n",
    "\n"
   ]
  },
  {
   "cell_type": "code",
   "execution_count": null,
   "metadata": {},
   "outputs": [],
   "source": []
  }
 ],
 "metadata": {
  "kernelspec": {
   "display_name": "base",
   "language": "python",
   "name": "python3"
  },
  "language_info": {
   "codemirror_mode": {
    "name": "ipython",
    "version": 3
   },
   "file_extension": ".py",
   "mimetype": "text/x-python",
   "name": "python",
   "nbconvert_exporter": "python",
   "pygments_lexer": "ipython3",
   "version": "3.12.7"
  }
 },
 "nbformat": 4,
 "nbformat_minor": 2
}
