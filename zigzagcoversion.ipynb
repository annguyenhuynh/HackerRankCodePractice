{
 "cells": [
  {
   "cell_type": "code",
   "execution_count": 1,
   "metadata": {},
   "outputs": [],
   "source": [
    "class Solution:\n",
    "    def convert(self, s:str, numRows: int) -> str:\n",
    "        if numRows == 1:\n",
    "            return s \n",
    "         \n",
    "        row_map = {row:\"\" for row in range(1, numRows+1)}\n",
    "\n",
    "        row = 1\n",
    "        up = True \n",
    "\n",
    "        for letter in s:\n",
    "            row_map[row] += letter\n",
    "            if (row == 1) or ((row < numRows) and up):\n",
    "                row += 1\n",
    "                up = True \n",
    "            else:\n",
    "                row -=1 \n",
    "                up = False \n",
    "\n",
    "        converted = \"\"\n",
    "        for row in range(1, numRows + 1):\n",
    "            converted += row_map[row]\n",
    "\n",
    "        return converted"
   ]
  },
  {
   "cell_type": "code",
   "execution_count": null,
   "metadata": {},
   "outputs": [],
   "source": []
  }
 ],
 "metadata": {
  "kernelspec": {
   "display_name": "base",
   "language": "python",
   "name": "python3"
  },
  "language_info": {
   "codemirror_mode": {
    "name": "ipython",
    "version": 3
   },
   "file_extension": ".py",
   "mimetype": "text/x-python",
   "name": "python",
   "nbconvert_exporter": "python",
   "pygments_lexer": "ipython3",
   "version": "3.12.7"
  }
 },
 "nbformat": 4,
 "nbformat_minor": 2
}
