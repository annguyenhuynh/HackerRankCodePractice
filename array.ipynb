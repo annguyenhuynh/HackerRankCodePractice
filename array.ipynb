{
 "cells": [
  {
   "cell_type": "markdown",
   "metadata": {},
   "source": [
    "#### Floor\n",
    "* The tool floor returns the floor of the input element-wise.\n",
    "The floor of x is the largest integer i where i <= x \n",
    "\n",
    "#### Ceil\n",
    "* The tool ceil returns the ceiling of the input element-wise.\n",
    "The ceiling of x is the smallest integer i where i >= x \n",
    "\n",
    "#### Rint\n",
    "* The rint tool rounds to the nearest integer of input element-wise."
   ]
  },
  {
   "cell_type": "code",
   "execution_count": 5,
   "metadata": {},
   "outputs": [
    {
     "name": "stdout",
     "output_type": "stream",
     "text": [
      "[ 2.  3.  4.  5.  6.  7.  8.  9. 10.]\n",
      "[1. 2. 3. 4. 5. 6. 7. 8. 9.]\n",
      "[ 1.  2.  3.  4.  6.  7.  8.  9. 10.]\n"
     ]
    }
   ],
   "source": [
    "## Example\n",
    "import numpy \n",
    "\n",
    "my_array = numpy.array([1.1, 2.2, 3.3, 4.4, 5.5, 6.6, 7.7, 8.8, 9.9])\n",
    "print (numpy.ceil(my_array))\n",
    "print(numpy.floor(my_array))\n",
    "print(numpy.rint(my_array))"
   ]
  },
  {
   "cell_type": "markdown",
   "metadata": {},
   "source": [
    "* You are given a 2-D array with dimensions X.\n",
    "* Your task is to perform the sum tool over axis 0 and then find the product of that result.\n",
    "\n",
    "Input Format\n",
    "* The first line of input contains space separated values of N and M.\n",
    "The next N lines contains M space separated integers.\n",
    "\n",
    "Output Format\n",
    "* Compute the sum along axis . Then, print the product of that sum."
   ]
  },
  {
   "cell_type": "code",
   "execution_count": 10,
   "metadata": {},
   "outputs": [
    {
     "name": "stdout",
     "output_type": "stream",
     "text": [
      "24\n"
     ]
    }
   ],
   "source": [
    "import numpy as np \n",
    "N, M= map(int, input().split()) #2-D array\n",
    "\n",
    "array = []\n",
    "\n",
    "for _ in range(N):\n",
    "  row = list(map(int, input().split()))\n",
    "  array.append(row)\n",
    "\n",
    "array = np.array(array)\n",
    "sum_result = np.sum(array, axis=0)\n",
    "prod_result = np.prod(sum_result)\n",
    "\n",
    "print(prod_result)"
   ]
  },
  {
   "cell_type": "code",
   "execution_count": null,
   "metadata": {},
   "outputs": [],
   "source": []
  }
 ],
 "metadata": {
  "kernelspec": {
   "display_name": "base",
   "language": "python",
   "name": "python3"
  },
  "language_info": {
   "codemirror_mode": {
    "name": "ipython",
    "version": 3
   },
   "file_extension": ".py",
   "mimetype": "text/x-python",
   "name": "python",
   "nbconvert_exporter": "python",
   "pygments_lexer": "ipython3",
   "version": "3.9.12"
  }
 },
 "nbformat": 4,
 "nbformat_minor": 2
}
