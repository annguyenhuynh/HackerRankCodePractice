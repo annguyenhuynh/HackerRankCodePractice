{
 "cells": [
  {
   "cell_type": "code",
   "execution_count": 2,
   "metadata": {},
   "outputs": [
    {
     "name": "stdout",
     "output_type": "stream",
     "text": [
      "(1, 4) (1, 5) (1, 6) (2, 4) (2, 5) (2, 6) (3, 4) (3, 5) (3, 6) "
     ]
    }
   ],
   "source": [
    "from itertools import product\n",
    "A = list(map(int,input().split()))\n",
    "B = list(map(int,input().split()))\n",
    "cartesian_product = list(product(A,B))\n",
    "for item in cartesian_product:\n",
    "  print(f\"({item[0]}, {item[1]})\", end= ' ')"
   ]
  },
  {
   "cell_type": "code",
   "execution_count": 5,
   "metadata": {},
   "outputs": [
    {
     "name": "stdout",
     "output_type": "stream",
     "text": [
      "AC\n",
      "AH\n",
      "AK\n",
      "CA\n",
      "CH\n",
      "CK\n",
      "HA\n",
      "HC\n",
      "HK\n",
      "KA\n",
      "KC\n",
      "KH\n"
     ]
    }
   ],
   "source": [
    "from itertools import permutations\n",
    "S = list(['H','A','C','K'])\n",
    "permutations = list(permutations(S,2))\n",
    "sorted_perm = sorted(permutations, key=lambda item: \"\".join(item).upper())\n",
    "for item in sorted_perm:\n",
    "  print(\"\".join(item).upper())"
   ]
  },
  {
   "cell_type": "code",
   "execution_count": 21,
   "metadata": {},
   "outputs": [
    {
     "name": "stdout",
     "output_type": "stream",
     "text": [
      "AC\n",
      "AH\n",
      "AK\n",
      "CA\n",
      "CH\n",
      "CK\n",
      "HA\n",
      "HC\n",
      "HK\n",
      "KA\n",
      "KC\n",
      "KH\n"
     ]
    }
   ],
   "source": [
    "# Another method to achieve the above result\n",
    "from itertools import permutations\n",
    "\n",
    "# Read input\n",
    "S, k = input().split()\n",
    "\n",
    "# Generate and sort permutations\n",
    "sorted_perm = sorted(permutations(S, int(k)))\n",
    "\n",
    "# Print each permutation in uppercase\n",
    "for x in sorted_perm:\n",
    "    print(\"\".join(x).upper())"
   ]
  },
  {
   "cell_type": "code",
   "execution_count": 16,
   "metadata": {},
   "outputs": [
    {
     "name": "stdout",
     "output_type": "stream",
     "text": [
      "A\n",
      "C\n",
      "H\n",
      "K\n",
      "AC\n",
      "AH\n",
      "AK\n",
      "CH\n",
      "CK\n",
      "HK\n"
     ]
    }
   ],
   "source": [
    "# Combinations\n",
    "# length of k is less than or equal to S\n",
    "from itertools import combinations\n",
    "S, k = input().split()\n",
    "S = sorted(S)\n",
    "k = int(k)\n",
    "for x in range(1,k+1):\n",
    "  for y in combinations(S,x):\n",
    "    print(\"\"  .join(y).upper())"
   ]
  },
  {
   "cell_type": "code",
   "execution_count": 22,
   "metadata": {},
   "outputs": [
    {
     "name": "stdout",
     "output_type": "stream",
     "text": [
      "(1, 1) (3, 2) (2, 3) (4, 2) (2, 1)\n"
     ]
    }
   ],
   "source": [
    "# For example, S=122233222211\n",
    "# The code print out the frequency of each element using groupby\n",
    "# If we want to have each number (1,2,3) appears only once, add S = sorted(S) after input S\n",
    "from itertools import groupby\n",
    "S = input()\n",
    "grouped_data = groupby(S)\n",
    "result = [f\"({len(list(value))}, {key})\" for key, value in grouped_data]\n",
    "print(\" \".join(result))"
   ]
  },
  {
   "cell_type": "code",
   "execution_count": 23,
   "metadata": {},
   "outputs": [
    {
     "name": "stdout",
     "output_type": "stream",
     "text": [
      "(3, 1) (8, 2) (2, 3)\n"
     ]
    }
   ],
   "source": [
    "S = input()\n",
    "S=sorted(S)\n",
    "grouped_data = groupby(S)\n",
    "result = [f\"({len(list(value))}, {key})\" for key, value in grouped_data]\n",
    "print(\" \".join(result))"
   ]
  },
  {
   "cell_type": "code",
   "execution_count": 34,
   "metadata": {},
   "outputs": [
    {
     "ename": "ValueError",
     "evalue": "could not convert string to float: ''",
     "output_type": "error",
     "traceback": [
      "\u001b[0;31m---------------------------------------------------------------------------\u001b[0m",
      "\u001b[0;31mValueError\u001b[0m                                Traceback (most recent call last)",
      "Cell \u001b[0;32mIn[34], line 31\u001b[0m\n\u001b[1;32m     29\u001b[0m \u001b[38;5;28;01mfor\u001b[39;00m _ \u001b[38;5;129;01min\u001b[39;00m \u001b[38;5;28mrange\u001b[39m(N):\n\u001b[1;32m     30\u001b[0m     name \u001b[38;5;241m=\u001b[39m \u001b[38;5;28minput\u001b[39m()\n\u001b[0;32m---> 31\u001b[0m     score \u001b[38;5;241m=\u001b[39m \u001b[38;5;28;43mfloat\u001b[39;49m\u001b[43m(\u001b[49m\u001b[38;5;28;43minput\u001b[39;49m\u001b[43m(\u001b[49m\u001b[43m)\u001b[49m\u001b[43m)\u001b[49m\n\u001b[1;32m     32\u001b[0m     students\u001b[38;5;241m.\u001b[39mappend((name, score))\n\u001b[1;32m     34\u001b[0m \u001b[38;5;66;03m# Create a sorted list of unique scores\u001b[39;00m\n",
      "\u001b[0;31mValueError\u001b[0m: could not convert string to float: ''"
     ]
    }
   ],
   "source": [
    "# Given a list of students and their scores, we want to sort them based on their lowest scores.\n",
    "# If 2 students have the same lowest score, print their name in alphabetical order\n",
    "\n",
    "\n",
    "import sys\n",
    "from io import StringIO\n",
    "\n",
    "# Simulated input data\n",
    "input_data = \"\"\"5\n",
    "Harry\n",
    "37.21\n",
    "Berry\n",
    "37.21\n",
    "Tina\n",
    "37.2\n",
    "Akriti\n",
    "41\n",
    "Harsh\n",
    "39\n",
    "\"\"\"\n",
    "\n",
    "# Redirect standard input to use the simulated input data\n",
    "sys.stdin = StringIO(input_data)\n",
    "\n",
    "# Original code\n",
    "N = int(input())  # Number of students\n",
    "students = []  # List to store the student names and scores\n",
    "\n",
    "for _ in range(N):\n",
    "    name = input()\n",
    "    score = float(input())\n",
    "    students.append((name, score))\n",
    "\n",
    "# Create a sorted list of unique scores\n",
    "scores = sorted(set([score for name, score in students]))\n",
    "\n",
    "# Get the second lowest score\n",
    "second_lowest_score = scores[1]\n",
    "\n",
    "# Get the names of students with the second lowest score and sort alphabetically\n",
    "second_lowest_students = sorted([name for name, score in students if score == second_lowest_score])\n",
    "\n",
    "# Print each student's name on a new line\n",
    "for student in second_lowest_students:\n",
    "    print(student)\n"
   ]
  },
  {
   "cell_type": "code",
   "execution_count": null,
   "metadata": {},
   "outputs": [],
   "source": [
    "n = int(input())\n",
    "student_marks = {}\n",
    "for _ in range(n):\n",
    "  name, *line = input().split()\n",
    "  scores = list(map(float, line)) # Convert input into float type\n",
    "  student_marks[name] = scores # Store each student' scores\n",
    "query_name = input()\n",
    "if query_name in student_marks:\n",
    "  scores = student_marks[query_name]\n",
    "  query_result = sum(scores) / len(scores)\n",
    "  print(f\"{query_result: .2f}\")"
   ]
  },
  {
   "cell_type": "code",
   "execution_count": 38,
   "metadata": {},
   "outputs": [
    {
     "name": "stdout",
     "output_type": "stream",
     "text": [
      "abrackdabra\n"
     ]
    }
   ],
   "source": [
    "string = \"abracadabra\"\n",
    "l = list(string)\n",
    "l[5] = 'k'\n",
    "string = ''.join(l)\n",
    "print(string)"
   ]
  },
  {
   "cell_type": "code",
   "execution_count": 39,
   "metadata": {},
   "outputs": [
    {
     "name": "stdout",
     "output_type": "stream",
     "text": [
      "abrackdabra\n"
     ]
    }
   ],
   "source": [
    "string = string[:5] + 'k' + string[6:]\n",
    "print(string)"
   ]
  },
  {
   "cell_type": "code",
   "execution_count": 40,
   "metadata": {},
   "outputs": [],
   "source": [
    "def count_substring(string,sub_string):\n",
    "  count=0\n",
    "  start=0\n",
    "  while True:\n",
    "    start = string.find(sub_string,start)\n",
    "    if start==-1:\n",
    "      break\n",
    "    count+=1\n",
    "    start+=1\n",
    "  return count"
   ]
  },
  {
   "cell_type": "code",
   "execution_count": 41,
   "metadata": {},
   "outputs": [
    {
     "data": {
      "text/plain": [
       "2"
      ]
     },
     "execution_count": 41,
     "metadata": {},
     "output_type": "execute_result"
    }
   ],
   "source": [
    "count_substring('SABCDCDC','CDC')"
   ]
  },
  {
   "cell_type": "code",
   "execution_count": 1,
   "metadata": {},
   "outputs": [
    {
     "name": "stdout",
     "output_type": "stream",
     "text": [
      "1.24.3\n"
     ]
    }
   ],
   "source": [
    "import numpy as np\n",
    "print(np.__version__)"
   ]
  },
  {
   "cell_type": "code",
   "execution_count": 3,
   "metadata": {},
   "outputs": [
    {
     "ename": "ValueError",
     "evalue": "setting an array element with a sequence. The requested array has an inhomogeneous shape after 1 dimensions. The detected shape was (2,) + inhomogeneous part.",
     "output_type": "error",
     "traceback": [
      "\u001b[0;31m---------------------------------------------------------------------------\u001b[0m",
      "\u001b[0;31mValueError\u001b[0m                                Traceback (most recent call last)",
      "Cell \u001b[0;32mIn[3], line 2\u001b[0m\n\u001b[1;32m      1\u001b[0m N, M \u001b[38;5;241m=\u001b[39m \u001b[38;5;28mmap\u001b[39m(\u001b[38;5;28mint\u001b[39m, \u001b[38;5;28minput\u001b[39m()\u001b[38;5;241m.\u001b[39msplit())\n\u001b[0;32m----> 2\u001b[0m A \u001b[38;5;241m=\u001b[39m \u001b[43mnp\u001b[49m\u001b[38;5;241;43m.\u001b[39;49m\u001b[43marray\u001b[49m\u001b[43m(\u001b[49m\u001b[43m[\u001b[49m\u001b[38;5;28;43mlist\u001b[39;49m\u001b[43m(\u001b[49m\u001b[38;5;28;43mmap\u001b[39;49m\u001b[43m(\u001b[49m\u001b[38;5;28;43mint\u001b[39;49m\u001b[43m,\u001b[49m\u001b[43m \u001b[49m\u001b[38;5;28;43minput\u001b[39;49m\u001b[43m(\u001b[49m\u001b[43m)\u001b[49m\u001b[38;5;241;43m.\u001b[39;49m\u001b[43msplit\u001b[49m\u001b[43m(\u001b[49m\u001b[43m)\u001b[49m\u001b[43m)\u001b[49m\u001b[43m)\u001b[49m\u001b[43m \u001b[49m\u001b[38;5;28;43;01mfor\u001b[39;49;00m\u001b[43m \u001b[49m\u001b[43m_\u001b[49m\u001b[43m \u001b[49m\u001b[38;5;129;43;01min\u001b[39;49;00m\u001b[43m \u001b[49m\u001b[38;5;28;43mrange\u001b[39;49m\u001b[43m(\u001b[49m\u001b[43mN\u001b[49m\u001b[43m)\u001b[49m\u001b[43m]\u001b[49m\u001b[43m)\u001b[49m\n\u001b[1;32m      3\u001b[0m B \u001b[38;5;241m=\u001b[39m np\u001b[38;5;241m.\u001b[39marray([\u001b[38;5;28mlist\u001b[39m(\u001b[38;5;28mmap\u001b[39m(\u001b[38;5;28mint\u001b[39m, \u001b[38;5;28minput\u001b[39m()\u001b[38;5;241m.\u001b[39msplit())) \u001b[38;5;28;01mfor\u001b[39;00m _ \u001b[38;5;129;01min\u001b[39;00m \u001b[38;5;28mrange\u001b[39m(M)])\n\u001b[1;32m      5\u001b[0m \u001b[38;5;28mprint\u001b[39m(np\u001b[38;5;241m.\u001b[39madd(A, B))\n",
      "\u001b[0;31mValueError\u001b[0m: setting an array element with a sequence. The requested array has an inhomogeneous shape after 1 dimensions. The detected shape was (2,) + inhomogeneous part."
     ]
    }
   ],
   "source": [
    "N, M = map(int, input().split())\n",
    "A = np.array([list(map(int, input().split())) for _ in range(N)])\n",
    "B = np.array([list(map(int, input().split())) for _ in range(M)])\n",
    "\n",
    "print(np.add(A, B))\n",
    "print(np.subtract(A, B))\n",
    "print(np.multiply(A, B))\n",
    "print(np.divide(A, B))\n",
    "print(np.mod(A, B))\n",
    "print(np.power(A, B))"
   ]
  },
  {
   "cell_type": "code",
   "execution_count": 4,
   "metadata": {},
   "outputs": [
    {
     "name": "stdout",
     "output_type": "stream",
     "text": [
      "This-is-a-string\n"
     ]
    }
   ],
   "source": [
    "def split_and_join(line):\n",
    "  return '-'.join(line.split())\n",
    "\n",
    "if __name__ == '__main__':\n",
    "  line = input()\n",
    "  result = split_and_join(line)\n",
    "  print(result)"
   ]
  },
  {
   "cell_type": "markdown",
   "metadata": {},
   "source": [
    "### Text Wrap\n",
    " * textwrap(text,width)\n",
    " * This function wraps the input text into a list of lines, where each line is at most width\n",
    "characters long .\n"
   ]
  },
  {
   "cell_type": "code",
   "execution_count": 5,
   "metadata": {},
   "outputs": [
    {
     "name": "stdout",
     "output_type": "stream",
     "text": [
      "abcd\n",
      "efg\n"
     ]
    }
   ],
   "source": [
    "import textwrap\n",
    "\n",
    "def wrap(string, max_width):\n",
    "  return textwrap.fill(string,max_width)\n",
    "if __name__ == '__main__':\n",
    "  string, max_width = input(), int(input())\n",
    "  result = wrap(string, max_width)\n",
    "  print(result)"
   ]
  },
  {
   "cell_type": "markdown",
   "metadata": {},
   "source": [
    "### Defaultdict\n",
    "\n",
    "*  defaultdict tool is a container in the collections class of Python. It’s similar to the usual\n",
    "dictionary (dict) container, but the only difference is that a defaultdict will have a default value if that key has not been set yet. If you didn’t use a defaultdict you’d have to check to see if that key exists, and if it doesn’t, set it to what you want."
   ]
  },
  {
   "cell_type": "code",
   "execution_count": 8,
   "metadata": {},
   "outputs": [
    {
     "name": "stdout",
     "output_type": "stream",
     "text": [
      "-1\n",
      "-1\n",
      "-1\n"
     ]
    }
   ],
   "source": [
    "from collections import defaultdict\n",
    "n, m = map(int, input().split())\n",
    "# Initialize a dict to store indices of word in group A\n",
    "group_a = defaultdict(list)\n",
    "for i in range(1, n+1):\n",
    "  word = input()\n",
    "group_a[word].append(i)\n",
    "# Read the word in group B and check occurences in group A\n",
    "for _ in range(m):\n",
    "  word_b = input()\n",
    "  if word_b in group_a:\n",
    "    print(*group_a[word_b]) # '*' will print the list without the square brackets\n",
    "  else:\n",
    "    print(-1)"
   ]
  },
  {
   "cell_type": "code",
   "execution_count": null,
   "metadata": {},
   "outputs": [],
   "source": []
  },
  {
   "cell_type": "code",
   "execution_count": null,
   "metadata": {},
   "outputs": [],
   "source": []
  }
 ],
 "metadata": {
  "kernelspec": {
   "display_name": "base",
   "language": "python",
   "name": "python3"
  },
  "language_info": {
   "codemirror_mode": {
    "name": "ipython",
    "version": 3
   },
   "file_extension": ".py",
   "mimetype": "text/x-python",
   "name": "python",
   "nbconvert_exporter": "python",
   "pygments_lexer": "ipython3",
   "version": "3.9.12"
  }
 },
 "nbformat": 4,
 "nbformat_minor": 2
}
